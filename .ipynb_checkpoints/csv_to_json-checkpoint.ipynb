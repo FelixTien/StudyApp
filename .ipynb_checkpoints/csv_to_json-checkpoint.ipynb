{
 "cells": [
  {
   "cell_type": "code",
   "execution_count": 2,
   "metadata": {},
   "outputs": [],
   "source": [
    "import json\n",
    "import csv\n",
    "\n",
    "# 輸入 txt 檔案的 fileName 到 makeQustion 會回傳 question 的資料\n",
    "# 再把回傳的 question 帶到 makeJSON 就可以有 JSON 檔案了\n",
    "# 有必要的話可以用迴圈產生多本書需要的資料"
   ]
  },
  {
   "cell_type": "code",
   "execution_count": 3,
   "metadata": {},
   "outputs": [],
   "source": [
    "def makeQuestion(fileName):\n",
    "    question = []\n",
    "    with open(fileName, \"r\", encoding=\"utf-8\") as file:\n",
    "        reader = csv.reader(file)\n",
    "        i = 0\n",
    "        for row in reader:\n",
    "            options = []\n",
    "            i += 1\n",
    "            for index in range(len(row)):\n",
    "                if index == 1:\n",
    "                    content = row[index].replace(\"\\u3000\", \" \")\n",
    "                elif index > 1 and index < 6:\n",
    "                    options.append(row[index])\n",
    "                elif index == 6:\n",
    "                    answer = row[index]\n",
    "            question.append({\"id\":i, \"content\":content, \"options\":options, \"answer\":answer})\n",
    "    return question"
   ]
  },
  {
   "cell_type": "code",
   "execution_count": 4,
   "metadata": {},
   "outputs": [],
   "source": [
    "def makeJSON(id, category, level, question):\n",
    "    book = {\"id\":id, \"category\":category, \"level\":level, \"question\":question}\n",
    "    with open(str(id)+level+\".json\", \"w\", encoding=\"utf-8\") as file:\n",
    "        file.write(\"[\\n\")\n",
    "        json.dump(book, file, indent=4, ensure_ascii=False)\n",
    "        file.write(\"\\n]\")"
   ]
  },
  {
   "cell_type": "code",
   "execution_count": 5,
   "metadata": {},
   "outputs": [],
   "source": [
    "def makeLevel(level):\n",
    "    for i in range(12):\n",
    "        if (i+1) % 3 == 1:\n",
    "            makeJSON(i+1, \"文字\", level, makeQuestion(str(i+1)+level+\".txt\"))\n",
    "            print(level + \" ID \", i+1, \" 的文字 JSON 檔案已成功生產\")\n",
    "        elif (i+1) % 3 == 2:\n",
    "            makeJSON(i+1, \"語い\", level, makeQuestion(str(i+1)+level+\".txt\"))\n",
    "            print(level + \" ID \", i+1, \" 的語い JSON 檔案已成功生產\")\n",
    "        else:\n",
    "            makeJSON(i+1, \"文法\", level, makeQuestion(str(i+1)+level+\".txt\"))\n",
    "            print(level + \" ID \", i+1, \" 的文法 JSON 檔案已成功生產\")"
   ]
  },
  {
   "cell_type": "code",
   "execution_count": 7,
   "metadata": {},
   "outputs": [
    {
     "name": "stdout",
     "output_type": "stream",
     "text": [
      "N4-N5 ID  1  的文字 JSON 檔案已成功生產\n",
      "N4-N5 ID  2  的語い JSON 檔案已成功生產\n",
      "N4-N5 ID  3  的文法 JSON 檔案已成功生產\n",
      "N4-N5 ID  4  的文字 JSON 檔案已成功生產\n",
      "N4-N5 ID  5  的語い JSON 檔案已成功生產\n",
      "N4-N5 ID  6  的文法 JSON 檔案已成功生產\n",
      "N4-N5 ID  7  的文字 JSON 檔案已成功生產\n",
      "N4-N5 ID  8  的語い JSON 檔案已成功生產\n",
      "N4-N5 ID  9  的文法 JSON 檔案已成功生產\n",
      "N4-N5 ID  10  的文字 JSON 檔案已成功生產\n",
      "N4-N5 ID  11  的語い JSON 檔案已成功生產\n",
      "N4-N5 ID  12  的文法 JSON 檔案已成功生產\n"
     ]
    }
   ],
   "source": [
    "makeLevel(\"N4-N5\")"
   ]
  }
 ],
 "metadata": {
  "kernelspec": {
   "display_name": "Python 3",
   "language": "python",
   "name": "python3"
  },
  "language_info": {
   "codemirror_mode": {
    "name": "ipython",
    "version": 3
   },
   "file_extension": ".py",
   "mimetype": "text/x-python",
   "name": "python",
   "nbconvert_exporter": "python",
   "pygments_lexer": "ipython3",
   "version": "3.8.3"
  }
 },
 "nbformat": 4,
 "nbformat_minor": 4
}
